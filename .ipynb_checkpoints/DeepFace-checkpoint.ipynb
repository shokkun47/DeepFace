{
 "cells": [
  {
   "cell_type": "code",
   "execution_count": 1,
   "id": "f59b0af4-ff65-48ae-87b3-0b3bf570cb8b",
   "metadata": {
    "scrolled": true
   },
   "outputs": [
    {
     "name": "stdout",
     "output_type": "stream",
     "text": [
      "Requirement already satisfied: deepface in c:\\users\\shoki\\anaconda3\\lib\\site-packages (0.0.93)Note: you may need to restart the kernel to use updated packages.\n",
      "\n",
      "Requirement already satisfied: requests>=2.27.1 in c:\\users\\shoki\\anaconda3\\lib\\site-packages (from deepface) (2.32.2)\n",
      "Requirement already satisfied: numpy>=1.14.0 in c:\\users\\shoki\\anaconda3\\lib\\site-packages (from deepface) (1.26.4)\n",
      "Requirement already satisfied: pandas>=0.23.4 in c:\\users\\shoki\\anaconda3\\lib\\site-packages (from deepface) (2.2.2)\n",
      "Requirement already satisfied: gdown>=3.10.1 in c:\\users\\shoki\\anaconda3\\lib\\site-packages (from deepface) (5.2.0)\n",
      "Requirement already satisfied: tqdm>=4.30.0 in c:\\users\\shoki\\anaconda3\\lib\\site-packages (from deepface) (4.66.4)\n",
      "Requirement already satisfied: Pillow>=5.2.0 in c:\\users\\shoki\\anaconda3\\lib\\site-packages (from deepface) (10.3.0)\n",
      "Requirement already satisfied: opencv-python>=4.5.5.64 in c:\\users\\shoki\\anaconda3\\lib\\site-packages (from deepface) (4.10.0.84)\n",
      "Requirement already satisfied: tensorflow>=1.9.0 in c:\\users\\shoki\\anaconda3\\lib\\site-packages (from deepface) (2.17.0)\n",
      "Requirement already satisfied: keras>=2.2.0 in c:\\users\\shoki\\anaconda3\\lib\\site-packages (from deepface) (3.6.0)\n",
      "Requirement already satisfied: Flask>=1.1.2 in c:\\users\\shoki\\anaconda3\\lib\\site-packages (from deepface) (3.0.3)\n",
      "Requirement already satisfied: flask-cors>=4.0.1 in c:\\users\\shoki\\anaconda3\\lib\\site-packages (from deepface) (5.0.0)\n",
      "Requirement already satisfied: mtcnn>=0.1.0 in c:\\users\\shoki\\anaconda3\\lib\\site-packages (from deepface) (1.0.0)\n",
      "Requirement already satisfied: retina-face>=0.0.1 in c:\\users\\shoki\\anaconda3\\lib\\site-packages (from deepface) (0.0.17)\n",
      "Requirement already satisfied: fire>=0.4.0 in c:\\users\\shoki\\anaconda3\\lib\\site-packages (from deepface) (0.6.0)\n",
      "Requirement already satisfied: gunicorn>=20.1.0 in c:\\users\\shoki\\anaconda3\\lib\\site-packages (from deepface) (23.0.0)\n",
      "Requirement already satisfied: six in c:\\users\\shoki\\anaconda3\\lib\\site-packages (from fire>=0.4.0->deepface) (1.16.0)\n",
      "Requirement already satisfied: termcolor in c:\\users\\shoki\\anaconda3\\lib\\site-packages (from fire>=0.4.0->deepface) (2.4.0)\n",
      "Requirement already satisfied: Werkzeug>=3.0.0 in c:\\users\\shoki\\anaconda3\\lib\\site-packages (from Flask>=1.1.2->deepface) (3.0.3)\n",
      "Requirement already satisfied: Jinja2>=3.1.2 in c:\\users\\shoki\\anaconda3\\lib\\site-packages (from Flask>=1.1.2->deepface) (3.1.4)\n",
      "Requirement already satisfied: itsdangerous>=2.1.2 in c:\\users\\shoki\\anaconda3\\lib\\site-packages (from Flask>=1.1.2->deepface) (2.2.0)\n",
      "Requirement already satisfied: click>=8.1.3 in c:\\users\\shoki\\anaconda3\\lib\\site-packages (from Flask>=1.1.2->deepface) (8.1.7)\n",
      "Requirement already satisfied: blinker>=1.6.2 in c:\\users\\shoki\\anaconda3\\lib\\site-packages (from Flask>=1.1.2->deepface) (1.6.2)\n",
      "Requirement already satisfied: beautifulsoup4 in c:\\users\\shoki\\anaconda3\\lib\\site-packages (from gdown>=3.10.1->deepface) (4.12.3)\n",
      "Requirement already satisfied: filelock in c:\\users\\shoki\\anaconda3\\lib\\site-packages (from gdown>=3.10.1->deepface) (3.13.1)\n",
      "Requirement already satisfied: packaging in c:\\users\\shoki\\anaconda3\\lib\\site-packages (from gunicorn>=20.1.0->deepface) (23.2)\n",
      "Requirement already satisfied: absl-py in c:\\users\\shoki\\anaconda3\\lib\\site-packages (from keras>=2.2.0->deepface) (2.1.0)\n",
      "Requirement already satisfied: rich in c:\\users\\shoki\\anaconda3\\lib\\site-packages (from keras>=2.2.0->deepface) (13.3.5)\n",
      "Requirement already satisfied: namex in c:\\users\\shoki\\anaconda3\\lib\\site-packages (from keras>=2.2.0->deepface) (0.0.8)\n",
      "Requirement already satisfied: h5py in c:\\users\\shoki\\anaconda3\\lib\\site-packages (from keras>=2.2.0->deepface) (3.11.0)\n",
      "Requirement already satisfied: optree in c:\\users\\shoki\\anaconda3\\lib\\site-packages (from keras>=2.2.0->deepface) (0.13.0)\n",
      "Requirement already satisfied: ml-dtypes in c:\\users\\shoki\\anaconda3\\lib\\site-packages (from keras>=2.2.0->deepface) (0.4.1)\n",
      "Requirement already satisfied: joblib>=1.4.2 in c:\\users\\shoki\\anaconda3\\lib\\site-packages (from mtcnn>=0.1.0->deepface) (1.4.2)\n",
      "Requirement already satisfied: lz4>=4.3.3 in c:\\users\\shoki\\anaconda3\\lib\\site-packages (from mtcnn>=0.1.0->deepface) (4.3.3)\n",
      "Requirement already satisfied: python-dateutil>=2.8.2 in c:\\users\\shoki\\anaconda3\\lib\\site-packages (from pandas>=0.23.4->deepface) (2.9.0.post0)\n",
      "Requirement already satisfied: pytz>=2020.1 in c:\\users\\shoki\\anaconda3\\lib\\site-packages (from pandas>=0.23.4->deepface) (2024.1)\n",
      "Requirement already satisfied: tzdata>=2022.7 in c:\\users\\shoki\\anaconda3\\lib\\site-packages (from pandas>=0.23.4->deepface) (2023.3)\n",
      "Requirement already satisfied: charset-normalizer<4,>=2 in c:\\users\\shoki\\anaconda3\\lib\\site-packages (from requests>=2.27.1->deepface) (2.0.4)\n",
      "Requirement already satisfied: idna<4,>=2.5 in c:\\users\\shoki\\anaconda3\\lib\\site-packages (from requests>=2.27.1->deepface) (3.7)\n",
      "Requirement already satisfied: urllib3<3,>=1.21.1 in c:\\users\\shoki\\anaconda3\\lib\\site-packages (from requests>=2.27.1->deepface) (2.2.2)\n",
      "Requirement already satisfied: certifi>=2017.4.17 in c:\\users\\shoki\\anaconda3\\lib\\site-packages (from requests>=2.27.1->deepface) (2024.8.30)\n",
      "Requirement already satisfied: tensorflow-intel==2.17.0 in c:\\users\\shoki\\anaconda3\\lib\\site-packages (from tensorflow>=1.9.0->deepface) (2.17.0)\n",
      "Requirement already satisfied: astunparse>=1.6.0 in c:\\users\\shoki\\anaconda3\\lib\\site-packages (from tensorflow-intel==2.17.0->tensorflow>=1.9.0->deepface) (1.6.3)\n",
      "Requirement already satisfied: flatbuffers>=24.3.25 in c:\\users\\shoki\\anaconda3\\lib\\site-packages (from tensorflow-intel==2.17.0->tensorflow>=1.9.0->deepface) (24.3.25)\n",
      "Requirement already satisfied: gast!=0.5.0,!=0.5.1,!=0.5.2,>=0.2.1 in c:\\users\\shoki\\anaconda3\\lib\\site-packages (from tensorflow-intel==2.17.0->tensorflow>=1.9.0->deepface) (0.6.0)\n",
      "Requirement already satisfied: google-pasta>=0.1.1 in c:\\users\\shoki\\anaconda3\\lib\\site-packages (from tensorflow-intel==2.17.0->tensorflow>=1.9.0->deepface) (0.2.0)\n",
      "Requirement already satisfied: libclang>=13.0.0 in c:\\users\\shoki\\anaconda3\\lib\\site-packages (from tensorflow-intel==2.17.0->tensorflow>=1.9.0->deepface) (18.1.1)\n",
      "Requirement already satisfied: opt-einsum>=2.3.2 in c:\\users\\shoki\\anaconda3\\lib\\site-packages (from tensorflow-intel==2.17.0->tensorflow>=1.9.0->deepface) (3.4.0)\n",
      "Requirement already satisfied: protobuf!=4.21.0,!=4.21.1,!=4.21.2,!=4.21.3,!=4.21.4,!=4.21.5,<5.0.0dev,>=3.20.3 in c:\\users\\shoki\\anaconda3\\lib\\site-packages (from tensorflow-intel==2.17.0->tensorflow>=1.9.0->deepface) (3.20.3)\n",
      "Requirement already satisfied: setuptools in c:\\users\\shoki\\anaconda3\\lib\\site-packages (from tensorflow-intel==2.17.0->tensorflow>=1.9.0->deepface) (75.1.0)\n",
      "Requirement already satisfied: typing-extensions>=3.6.6 in c:\\users\\shoki\\anaconda3\\lib\\site-packages (from tensorflow-intel==2.17.0->tensorflow>=1.9.0->deepface) (4.11.0)\n",
      "Requirement already satisfied: wrapt>=1.11.0 in c:\\users\\shoki\\anaconda3\\lib\\site-packages (from tensorflow-intel==2.17.0->tensorflow>=1.9.0->deepface) (1.14.1)\n",
      "Requirement already satisfied: grpcio<2.0,>=1.24.3 in c:\\users\\shoki\\anaconda3\\lib\\site-packages (from tensorflow-intel==2.17.0->tensorflow>=1.9.0->deepface) (1.66.2)\n",
      "Requirement already satisfied: tensorboard<2.18,>=2.17 in c:\\users\\shoki\\anaconda3\\lib\\site-packages (from tensorflow-intel==2.17.0->tensorflow>=1.9.0->deepface) (2.17.1)\n",
      "Requirement already satisfied: colorama in c:\\users\\shoki\\anaconda3\\lib\\site-packages (from tqdm>=4.30.0->deepface) (0.4.6)\n",
      "Requirement already satisfied: MarkupSafe>=2.0 in c:\\users\\shoki\\anaconda3\\lib\\site-packages (from Jinja2>=3.1.2->Flask>=1.1.2->deepface) (2.1.3)\n",
      "Requirement already satisfied: soupsieve>1.2 in c:\\users\\shoki\\anaconda3\\lib\\site-packages (from beautifulsoup4->gdown>=3.10.1->deepface) (2.5)\n",
      "Requirement already satisfied: PySocks!=1.5.7,>=1.5.6 in c:\\users\\shoki\\anaconda3\\lib\\site-packages (from requests[socks]->gdown>=3.10.1->deepface) (1.7.1)\n",
      "Requirement already satisfied: markdown-it-py<3.0.0,>=2.2.0 in c:\\users\\shoki\\anaconda3\\lib\\site-packages (from rich->keras>=2.2.0->deepface) (2.2.0)\n",
      "Requirement already satisfied: pygments<3.0.0,>=2.13.0 in c:\\users\\shoki\\anaconda3\\lib\\site-packages (from rich->keras>=2.2.0->deepface) (2.15.1)\n",
      "Requirement already satisfied: wheel<1.0,>=0.23.0 in c:\\users\\shoki\\anaconda3\\lib\\site-packages (from astunparse>=1.6.0->tensorflow-intel==2.17.0->tensorflow>=1.9.0->deepface) (0.43.0)\n",
      "Requirement already satisfied: mdurl~=0.1 in c:\\users\\shoki\\anaconda3\\lib\\site-packages (from markdown-it-py<3.0.0,>=2.2.0->rich->keras>=2.2.0->deepface) (0.1.0)\n",
      "Requirement already satisfied: markdown>=2.6.8 in c:\\users\\shoki\\anaconda3\\lib\\site-packages (from tensorboard<2.18,>=2.17->tensorflow-intel==2.17.0->tensorflow>=1.9.0->deepface) (3.4.1)\n",
      "Requirement already satisfied: tensorboard-data-server<0.8.0,>=0.7.0 in c:\\users\\shoki\\anaconda3\\lib\\site-packages (from tensorboard<2.18,>=2.17->tensorflow-intel==2.17.0->tensorflow>=1.9.0->deepface) (0.7.2)\n"
     ]
    }
   ],
   "source": [
    "pip install deepface"
   ]
  },
  {
   "cell_type": "code",
   "execution_count": 2,
   "id": "c6242260-5bc7-4874-a20f-23efbe1d5709",
   "metadata": {
    "scrolled": true
   },
   "outputs": [
    {
     "name": "stdout",
     "output_type": "stream",
     "text": [
      "Requirement already satisfied: tf-keras in c:\\users\\shoki\\anaconda3\\lib\\site-packages (2.17.0)\n",
      "Requirement already satisfied: tensorflow<2.18,>=2.17 in c:\\users\\shoki\\anaconda3\\lib\\site-packages (from tf-keras) (2.17.0)\n",
      "Requirement already satisfied: tensorflow-intel==2.17.0 in c:\\users\\shoki\\anaconda3\\lib\\site-packages (from tensorflow<2.18,>=2.17->tf-keras) (2.17.0)\n",
      "Requirement already satisfied: absl-py>=1.0.0 in c:\\users\\shoki\\anaconda3\\lib\\site-packages (from tensorflow-intel==2.17.0->tensorflow<2.18,>=2.17->tf-keras) (2.1.0)\n",
      "Requirement already satisfied: astunparse>=1.6.0 in c:\\users\\shoki\\anaconda3\\lib\\site-packages (from tensorflow-intel==2.17.0->tensorflow<2.18,>=2.17->tf-keras) (1.6.3)\n",
      "Requirement already satisfied: flatbuffers>=24.3.25 in c:\\users\\shoki\\anaconda3\\lib\\site-packages (from tensorflow-intel==2.17.0->tensorflow<2.18,>=2.17->tf-keras) (24.3.25)\n",
      "Requirement already satisfied: gast!=0.5.0,!=0.5.1,!=0.5.2,>=0.2.1 in c:\\users\\shoki\\anaconda3\\lib\\site-packages (from tensorflow-intel==2.17.0->tensorflow<2.18,>=2.17->tf-keras) (0.6.0)\n",
      "Requirement already satisfied: google-pasta>=0.1.1 in c:\\users\\shoki\\anaconda3\\lib\\site-packages (from tensorflow-intel==2.17.0->tensorflow<2.18,>=2.17->tf-keras) (0.2.0)\n",
      "Requirement already satisfied: h5py>=3.10.0 in c:\\users\\shoki\\anaconda3\\lib\\site-packages (from tensorflow-intel==2.17.0->tensorflow<2.18,>=2.17->tf-keras) (3.11.0)\n",
      "Requirement already satisfied: libclang>=13.0.0 in c:\\users\\shoki\\anaconda3\\lib\\site-packages (from tensorflow-intel==2.17.0->tensorflow<2.18,>=2.17->tf-keras) (18.1.1)\n",
      "Requirement already satisfied: ml-dtypes<0.5.0,>=0.3.1 in c:\\users\\shoki\\anaconda3\\lib\\site-packages (from tensorflow-intel==2.17.0->tensorflow<2.18,>=2.17->tf-keras) (0.4.1)\n",
      "Requirement already satisfied: opt-einsum>=2.3.2 in c:\\users\\shoki\\anaconda3\\lib\\site-packages (from tensorflow-intel==2.17.0->tensorflow<2.18,>=2.17->tf-keras) (3.4.0)\n",
      "Requirement already satisfied: packaging in c:\\users\\shoki\\anaconda3\\lib\\site-packages (from tensorflow-intel==2.17.0->tensorflow<2.18,>=2.17->tf-keras) (23.2)\n",
      "Requirement already satisfied: protobuf!=4.21.0,!=4.21.1,!=4.21.2,!=4.21.3,!=4.21.4,!=4.21.5,<5.0.0dev,>=3.20.3 in c:\\users\\shoki\\anaconda3\\lib\\site-packages (from tensorflow-intel==2.17.0->tensorflow<2.18,>=2.17->tf-keras) (3.20.3)\n",
      "Requirement already satisfied: requests<3,>=2.21.0 in c:\\users\\shoki\\anaconda3\\lib\\site-packages (from tensorflow-intel==2.17.0->tensorflow<2.18,>=2.17->tf-keras) (2.32.2)\n",
      "Requirement already satisfied: setuptools in c:\\users\\shoki\\anaconda3\\lib\\site-packages (from tensorflow-intel==2.17.0->tensorflow<2.18,>=2.17->tf-keras) (75.1.0)\n",
      "Requirement already satisfied: six>=1.12.0 in c:\\users\\shoki\\anaconda3\\lib\\site-packages (from tensorflow-intel==2.17.0->tensorflow<2.18,>=2.17->tf-keras) (1.16.0)\n",
      "Requirement already satisfied: termcolor>=1.1.0 in c:\\users\\shoki\\anaconda3\\lib\\site-packages (from tensorflow-intel==2.17.0->tensorflow<2.18,>=2.17->tf-keras) (2.4.0)\n",
      "Requirement already satisfied: typing-extensions>=3.6.6 in c:\\users\\shoki\\anaconda3\\lib\\site-packages (from tensorflow-intel==2.17.0->tensorflow<2.18,>=2.17->tf-keras) (4.11.0)\n",
      "Requirement already satisfied: wrapt>=1.11.0 in c:\\users\\shoki\\anaconda3\\lib\\site-packages (from tensorflow-intel==2.17.0->tensorflow<2.18,>=2.17->tf-keras) (1.14.1)\n",
      "Requirement already satisfied: grpcio<2.0,>=1.24.3 in c:\\users\\shoki\\anaconda3\\lib\\site-packages (from tensorflow-intel==2.17.0->tensorflow<2.18,>=2.17->tf-keras) (1.66.2)\n",
      "Requirement already satisfied: tensorboard<2.18,>=2.17 in c:\\users\\shoki\\anaconda3\\lib\\site-packages (from tensorflow-intel==2.17.0->tensorflow<2.18,>=2.17->tf-keras) (2.17.1)\n",
      "Requirement already satisfied: keras>=3.2.0 in c:\\users\\shoki\\anaconda3\\lib\\site-packages (from tensorflow-intel==2.17.0->tensorflow<2.18,>=2.17->tf-keras) (3.6.0)\n",
      "Requirement already satisfied: numpy<2.0.0,>=1.26.0 in c:\\users\\shoki\\anaconda3\\lib\\site-packages (from tensorflow-intel==2.17.0->tensorflow<2.18,>=2.17->tf-keras) (1.26.4)\n",
      "Requirement already satisfied: wheel<1.0,>=0.23.0 in c:\\users\\shoki\\anaconda3\\lib\\site-packages (from astunparse>=1.6.0->tensorflow-intel==2.17.0->tensorflow<2.18,>=2.17->tf-keras) (0.43.0)\n",
      "Requirement already satisfied: rich in c:\\users\\shoki\\anaconda3\\lib\\site-packages (from keras>=3.2.0->tensorflow-intel==2.17.0->tensorflow<2.18,>=2.17->tf-keras) (13.3.5)\n",
      "Requirement already satisfied: namex in c:\\users\\shoki\\anaconda3\\lib\\site-packages (from keras>=3.2.0->tensorflow-intel==2.17.0->tensorflow<2.18,>=2.17->tf-keras) (0.0.8)\n",
      "Requirement already satisfied: optree in c:\\users\\shoki\\anaconda3\\lib\\site-packages (from keras>=3.2.0->tensorflow-intel==2.17.0->tensorflow<2.18,>=2.17->tf-keras) (0.13.0)\n",
      "Requirement already satisfied: charset-normalizer<4,>=2 in c:\\users\\shoki\\anaconda3\\lib\\site-packages (from requests<3,>=2.21.0->tensorflow-intel==2.17.0->tensorflow<2.18,>=2.17->tf-keras) (2.0.4)\n",
      "Requirement already satisfied: idna<4,>=2.5 in c:\\users\\shoki\\anaconda3\\lib\\site-packages (from requests<3,>=2.21.0->tensorflow-intel==2.17.0->tensorflow<2.18,>=2.17->tf-keras) (3.7)\n",
      "Requirement already satisfied: urllib3<3,>=1.21.1 in c:\\users\\shoki\\anaconda3\\lib\\site-packages (from requests<3,>=2.21.0->tensorflow-intel==2.17.0->tensorflow<2.18,>=2.17->tf-keras) (2.2.2)\n",
      "Requirement already satisfied: certifi>=2017.4.17 in c:\\users\\shoki\\anaconda3\\lib\\site-packages (from requests<3,>=2.21.0->tensorflow-intel==2.17.0->tensorflow<2.18,>=2.17->tf-keras) (2024.8.30)\n",
      "Requirement already satisfied: markdown>=2.6.8 in c:\\users\\shoki\\anaconda3\\lib\\site-packages (from tensorboard<2.18,>=2.17->tensorflow-intel==2.17.0->tensorflow<2.18,>=2.17->tf-keras) (3.4.1)\n",
      "Requirement already satisfied: tensorboard-data-server<0.8.0,>=0.7.0 in c:\\users\\shoki\\anaconda3\\lib\\site-packages (from tensorboard<2.18,>=2.17->tensorflow-intel==2.17.0->tensorflow<2.18,>=2.17->tf-keras) (0.7.2)\n",
      "Requirement already satisfied: werkzeug>=1.0.1 in c:\\users\\shoki\\anaconda3\\lib\\site-packages (from tensorboard<2.18,>=2.17->tensorflow-intel==2.17.0->tensorflow<2.18,>=2.17->tf-keras) (3.0.3)\n",
      "Requirement already satisfied: MarkupSafe>=2.1.1 in c:\\users\\shoki\\anaconda3\\lib\\site-packages (from werkzeug>=1.0.1->tensorboard<2.18,>=2.17->tensorflow-intel==2.17.0->tensorflow<2.18,>=2.17->tf-keras) (2.1.3)\n",
      "Requirement already satisfied: markdown-it-py<3.0.0,>=2.2.0 in c:\\users\\shoki\\anaconda3\\lib\\site-packages (from rich->keras>=3.2.0->tensorflow-intel==2.17.0->tensorflow<2.18,>=2.17->tf-keras) (2.2.0)\n",
      "Requirement already satisfied: pygments<3.0.0,>=2.13.0 in c:\\users\\shoki\\anaconda3\\lib\\site-packages (from rich->keras>=3.2.0->tensorflow-intel==2.17.0->tensorflow<2.18,>=2.17->tf-keras) (2.15.1)\n",
      "Requirement already satisfied: mdurl~=0.1 in c:\\users\\shoki\\anaconda3\\lib\\site-packages (from markdown-it-py<3.0.0,>=2.2.0->rich->keras>=3.2.0->tensorflow-intel==2.17.0->tensorflow<2.18,>=2.17->tf-keras) (0.1.0)\n",
      "Note: you may need to restart the kernel to use updated packages.\n"
     ]
    }
   ],
   "source": [
    "pip install tf-keras"
   ]
  },
  {
   "cell_type": "code",
   "execution_count": 61,
   "id": "dd4412ac-d4da-4ecc-bb14-948e3cc46657",
   "metadata": {},
   "outputs": [],
   "source": [
    "img1_path = \"src/canon02.jpg\"\n",
    "img2_path = \"src/canon01.jpg\""
   ]
  },
  {
   "cell_type": "code",
   "execution_count": 62,
   "id": "10b28cc1-f13d-4f9c-924a-8c01e00afc84",
   "metadata": {
    "scrolled": true
   },
   "outputs": [
    {
     "name": "stderr",
     "output_type": "stream",
     "text": [
      "Action: emotion: 100%|█████████████████████████████████████████████████████████████████████████████████████| 4/4 [00:14<00:00,  3.73s/it]\n",
      "Action: emotion: 100%|█████████████████████████████████████████████████████████████████████████████████████| 4/4 [00:00<00:00,  4.02it/s]"
     ]
    },
    {
     "name": "stdout",
     "output_type": "stream",
     "text": [
      "src/canon02.jpg\n",
      "推定年齢: 28歳\n",
      "性別: Man\n",
      "人種: asian\n",
      "感情: fear\n",
      "--------------\n",
      "src/canon01.jpg\n",
      "推定年齢: 28歳\n",
      "性別: Man\n",
      "人種: asian\n",
      "感情: fear\n"
     ]
    },
    {
     "name": "stderr",
     "output_type": "stream",
     "text": [
      "\n"
     ]
    }
   ],
   "source": [
    "from deepface import DeepFace\n",
    "\n",
    "objs1 = DeepFace.analyze(img1_path, actions = ['age', 'gender', 'race', 'emotion'])\n",
    "objs2 = DeepFace.analyze(img2_path, actions = ['age', 'gender', 'race', 'emotion'])\n",
    "\n",
    "age1 = objs[0]['age']\n",
    "gender1 = objs[0]['dominant_gender']\n",
    "race1 = objs[0]['dominant_race']\n",
    "emotion1 = objs[0]['dominant_emotion']\n",
    "age2 = objs[0]['age']\n",
    "gender2 = objs[0]['dominant_gender']\n",
    "race2 = objs[0]['dominant_race']\n",
    "emotion2 = objs[0]['dominant_emotion']\n",
    "\n",
    "print(img1_path)\n",
    "print(f\"推定年齢: {age1}歳\")\n",
    "print(f\"性別: {gender1}\")\n",
    "print(f\"人種: {race1}\")\n",
    "print(f\"感情: {emotion1}\")\n",
    "\n",
    "print(\"--------------\")\n",
    "\n",
    "print(img2_path)\n",
    "print(f\"推定年齢: {age2}歳\")\n",
    "print(f\"性別: {gender2}\")\n",
    "print(f\"人種: {race2}\")\n",
    "print(f\"感情: {emotion2}\")"
   ]
  },
  {
   "cell_type": "code",
   "execution_count": 68,
   "id": "f844ea30-a318-4e6a-8457-f4c8fe51aa80",
   "metadata": {
    "scrolled": true
   },
   "outputs": [
    {
     "name": "stdout",
     "output_type": "stream",
     "text": [
      "0.8063716947868617\n",
      "---------------------\n",
      "同一人物ではありません\n"
     ]
    }
   ],
   "source": [
    "result = DeepFace.verify(img1_path, img2_path)\n",
    "print(result['distance']);\n",
    "print(\"---------------------\")\n",
    "if result['verified']:\n",
    "    print(\"同一人物です\")\n",
    "else:\n",
    "    print(\"同一人物ではありません\")"
   ]
  },
  {
   "cell_type": "code",
   "execution_count": null,
   "id": "59d14840-f7e1-43d2-b1ef-bc718b5d3b75",
   "metadata": {},
   "outputs": [],
   "source": []
  }
 ],
 "metadata": {
  "kernelspec": {
   "display_name": "Python 3 (ipykernel)",
   "language": "python",
   "name": "python3"
  },
  "language_info": {
   "codemirror_mode": {
    "name": "ipython",
    "version": 3
   },
   "file_extension": ".py",
   "mimetype": "text/x-python",
   "name": "python",
   "nbconvert_exporter": "python",
   "pygments_lexer": "ipython3",
   "version": "3.12.3"
  }
 },
 "nbformat": 4,
 "nbformat_minor": 5
}
